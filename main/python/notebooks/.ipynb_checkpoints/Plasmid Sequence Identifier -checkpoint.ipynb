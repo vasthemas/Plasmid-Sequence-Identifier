{
 "cells": [
  {
   "cell_type": "code",
   "execution_count": 5,
   "metadata": {
    "collapsed": true
   },
   "outputs": [],
   "source": [
    "import os\n",
    "from itertools import chain\n",
    "import xlwt"
   ]
  },
  {
   "cell_type": "code",
   "execution_count": 100,
   "metadata": {
    "collapsed": false
   },
   "outputs": [],
   "source": [
    "class plasmidIDtool(): \n",
    "    \"\"\"\n",
    "    Tool to search sequence of DNA and find regions of interest\n",
    "    Support only .seq files\n",
    "    \"\"\"\n",
    "    def __init__(self):\n",
    "        \n",
    "        self.wd = ''\n",
    "        self.lis =[]\n",
    "        self.region =''\n",
    "        self.searchRange = 0\n",
    "        self.searchRegionLen = 0\n",
    "        self.name =''\n",
    "        self.complete = False \n",
    "        self.filename = ''\n",
    "             \n",
    "            \n",
    "    def fetch_wd(self,wd): \n",
    "        \n",
    "        \"\"\"\n",
    "        verify working dir exsists\n",
    "        \"\"\"\n",
    "        try:\n",
    "            os.chdir(wd)\n",
    "        except OSError:\n",
    "            print \"\"\"Error: Sorry can't find this folder, recheck path\"\"\"\n",
    "            return False\n",
    "            \n",
    "        else:\n",
    "            print \"Written content in the file successfully\"\n",
    "            self.wd = wd \n",
    "            return True\n",
    "        \n",
    "        \n",
    "    def check_files(self):\n",
    "        \n",
    "        \"\"\"\n",
    "        generate list of .seq files \n",
    "        \"\"\"\n",
    "        self.lis = []\n",
    "        direc = os.listdir(self.wd)\n",
    "        \n",
    "        for f in direc: \n",
    "            if '.seq' in f: self.lis.append(f)\n",
    "                \n",
    "        return self.lis \n",
    "    \n",
    "    \n",
    "    \n",
    "    \n",
    "    def ProduceCleanSeq(self,filename,useless=12): \n",
    "        #MAKE SURE USELESS IS A CONSTANT \n",
    "        \n",
    "        \"\"\"\n",
    "        Format file, removing unessential characters. Useless constant is the character length of \n",
    "        the file for .seq files.\n",
    "        \"\"\"\n",
    "        data = open(filename).read().split()\n",
    "        Data_unformatted = list(chain.from_iterable(data[i] for i in range(len(data))))\n",
    "        Data_formated = Data_unformatted[useless:]\n",
    "        Data_str = ''.join(Data_formated)\n",
    "        Clean_Seq = ''.join([i for i in Data_str if not i.isdigit()])\n",
    "        \n",
    "        \n",
    "        return Clean_Seq\n",
    "    \n",
    "\n",
    "    def find_region(self,Region,clean_seq):\n",
    "        \"\"\"\n",
    "        return bool if region is in sequence\n",
    "        \"\"\"\n",
    "       \n",
    "        return  Region in clean_seq\n",
    "\n",
    "\n",
    "    #ADD FUNCTION FOR REV COMP\n",
    "\n",
    "   \n",
    "    def find_region_range(self,Region,clean_seq,searchRange,searchRegionLen): \n",
    "        #DEAL WITH THE WRAPAROUND ISSUE \n",
    "        \n",
    "        \"\"\"\n",
    "        Look for given region in the cleaned sequence\n",
    "        Foreward is 3' to 5'\n",
    "        \"\"\"\n",
    "        \n",
    "        if self.find_region(Region,clean_seq) == False: \n",
    "            print \"ERROR: Region does not exsist in given sequence \"\n",
    "            new_regF, new_regB = \"NaN\",\"NaN\"\n",
    "        \n",
    "        else: \n",
    "            regionlen = len(Region)\n",
    "            region_start = clean_seq.find(Region)\n",
    "            region_end = region_start + regionlen\n",
    "            new_pos_F = region_end + searchRange \n",
    "            new_pos_B = region_start - searchRange\n",
    "            new_regF = clean_seq[new_pos_F : new_pos_F + searchRegionLen]\n",
    "            new_regB = clean_seq[new_pos_B - searchRegionLen: new_pos_B]\n",
    "\n",
    "        return new_regF, new_regB\n",
    "    \n",
    "    \n",
    "    def rev_comp(self,seq): \n",
    "        \"\"\"\n",
    "        Produce the reverse complement sequence of given sequence\n",
    "        \"\"\"\n",
    "        if seq == \"NaN\": rev_comp = \"NaN\"\n",
    "        else:     \n",
    "            complement = {'A': 'T', 'C': 'G', 'G': 'C', 'T': 'A'}\n",
    "            rev_comp = ''.join([complement[base] for base in seq[::-1]])\n",
    "        \n",
    "        return rev_comp\n",
    "    \n",
    "    def DNA_to_protein(self,seq): \n",
    "        \n",
    "        \"\"\"\n",
    "        Convert DNA to Amino acid\n",
    "        \"\"\"\n",
    "        if seq == \"NaN\": protein = \"NaN\" \n",
    "        elif \"N\" in seq: protein = \"Invalid sequence\"\n",
    "       \n",
    "        else:\n",
    "            table = {\n",
    "                'ATA':'I', 'ATC':'I', 'ATT':'I', 'ATG':'M',\n",
    "                'ACA':'T', 'ACC':'T', 'ACG':'T', 'ACT':'T',\n",
    "                'AAC':'N', 'AAT':'N', 'AAA':'K', 'AAG':'K',\n",
    "                'AGC':'S', 'AGT':'S', 'AGA':'R', 'AGG':'R',                 \n",
    "                'CTA':'L', 'CTC':'L', 'CTG':'L', 'CTT':'L',\n",
    "                'CCA':'P', 'CCC':'P', 'CCG':'P', 'CCT':'P',\n",
    "                'CAC':'H', 'CAT':'H', 'CAA':'Q', 'CAG':'Q',\n",
    "                'CGA':'R', 'CGC':'R', 'CGG':'R', 'CGT':'R',\n",
    "                'GTA':'V', 'GTC':'V', 'GTG':'V', 'GTT':'V',\n",
    "                'GCA':'A', 'GCC':'A', 'GCG':'A', 'GCT':'A',\n",
    "                'GAC':'D', 'GAT':'D', 'GAA':'E', 'GAG':'E',\n",
    "                'GGA':'G', 'GGC':'G', 'GGG':'G', 'GGT':'G',\n",
    "                'TCA':'S', 'TCC':'S', 'TCG':'S', 'TCT':'S',\n",
    "                'TTC':'F', 'TTT':'F', 'TTA':'L', 'TTG':'L',\n",
    "                'TAC':'Y', 'TAT':'Y', 'TAA':'_', 'TAG':'_',\n",
    "                'TGC':'C', 'TGT':'C', 'TGA':'_', 'TGG':'W',\n",
    "            }\n",
    "\n",
    "            protein =\"\"\n",
    "            if len(seq)%3 == 0:\n",
    "                for i in range(0, len(seq), 3):\n",
    "                    codon = seq[i:i + 3]\n",
    "                    protein+= table[codon]\n",
    "        return protein \n",
    "\n",
    "    \n",
    "    def start(self): \n",
    "        #runs tool UI \n",
    "        while self.complete == False:\n",
    "            \n",
    "            #Enter the path name by user \n",
    "            wd = str(raw_input('enter the folder path you would like to analyze: '))\n",
    "            if self.fetch_wd(wd) == True: \n",
    "                print 'Checking files'\n",
    "                self.check_files()\n",
    "                print \"You have\" + \" \" + str(len(self.lis)) + \" \" + \"file(s)\"\n",
    "                print self.lis\n",
    "            else: \n",
    "                print \"  \"\n",
    "                print \"Cant Find you File, lets try again\"\n",
    "            if len(self.lis) == 0: print \"nothing in here, lets try again\"\n",
    "                \n",
    "            else:\n",
    "                #Enter specifics for user\n",
    "                self.region = str(raw_input('enter the refernce region you would like to search: '))\n",
    "                self.searchRange = int(raw_input('how many base pairs would you like to search : '))\n",
    "                self.searchRegionLen = int(raw_input('how many base pairs is region you like to find : '))\n",
    "#                 revcomp = raw_input('does this sequence needs to read in reverse compliment (Y/N) : ')\n",
    "#                 if revcomp == 'Y':self.rev == True \n",
    "                    \n",
    "                self.name = raw_input('what you like to call your excel file : ')\n",
    "                \n",
    "                #Generate Excel files \n",
    "                 #DONT NEED BACKWARD SEARCHER \n",
    "                book = xlwt.Workbook(encoding=\"utf-8\")\n",
    "                sheet1 = book.add_sheet(\"Data\")\n",
    "                sheet1.write(0, 0, \"File Name\")\n",
    "                sheet1.write(0, 1, \"Reference Region\")\n",
    "                sheet1.write(0, 2, \"Search Distance\")\n",
    "                sheet1.write(0, 3, \"New Region Foreward\")   \n",
    "                sheet1.write(0, 4, \"New Region Backward\")\n",
    "                sheet1.write(0, 5, \"Protein Foreward\")\n",
    "                sheet1.write(0, 6, \"Protein Backward\")\n",
    "                sheet1.write(0, 7, \"New Region Foreward(Rev Comp)\")\n",
    "                sheet1.write(0, 8, \"New Region Backward(Rev Comp)\")\n",
    "                sheet1.write(0, 9, \"Protein Foreward(Rev Comp)\")\n",
    "                sheet1.write(0, 10, \"Protein Backward(Rev Comp)\")\n",
    "                \n",
    "                \n",
    "            \n",
    "                \n",
    "                \n",
    "                for idx in range(len(self.lis)):\n",
    "                    print self.lis[idx]\n",
    "                    #Correct for row in excel\n",
    "                    row = idx + 1 \n",
    "                    \n",
    "                    #Clean up sequence \n",
    "                    clean_seq = self.ProduceCleanSeq(self.lis[idx])\n",
    "                    \n",
    "                    #Find regions and convert to proteins \n",
    "                    new_regF, new_regB = self.find_region_range(self.region,clean_seq,self.searchRange,self.searchRegionLen)\n",
    "                    proteinF = self.DNA_to_protein(new_regF)\n",
    "                    proteinB = self.DNA_to_protein(new_regB)\n",
    "                    new_regF_rc = self.rev_comp(new_regF)\n",
    "                    new_regB_rc = self.rev_comp(new_regB)\n",
    "                    proteinF_rc = self.DNA_to_protein(new_regF_rc)\n",
    "                    proteinB_rc = self.DNA_to_protein(new_regB_rc)\n",
    "                    \n",
    "                    \n",
    "                    \n",
    "                    #enter in the file \n",
    "                    sheet1.write(row, 0, self.lis[idx])\n",
    "                    sheet1.write(row, 1, self.region)\n",
    "                    sheet1.write(row, 2, self.searchRange)\n",
    "                    sheet1.write(row, 3, new_regF)\n",
    "                    sheet1.write(row, 4, new_regB)\n",
    "                    sheet1.write(row, 5, proteinF)\n",
    "                    sheet1.write(row, 6, proteinB)\n",
    "                    sheet1.write(row, 7, new_regF_rc)\n",
    "                    sheet1.write(row, 8, new_regB_rc)\n",
    "                    sheet1.write(row, 9, proteinF_rc)\n",
    "                    sheet1.write(row, 10,proteinB_rc)\n",
    "                \n",
    "                self.complete = True \n",
    "                book.save(self.name)\n",
    "                print \"file saved\"\n",
    "                return self.complete\n",
    "                \n",
    "                \n",
    "                    \n",
    "                    \n",
    " \n",
    "            "
   ]
  },
  {
   "cell_type": "code",
   "execution_count": 101,
   "metadata": {
    "collapsed": false
   },
   "outputs": [
    {
     "data": {
      "text/plain": [
       "'/Users/wyssuser/Desktop/Repos/Plasmid-Sequence-Identifier/test_seqence'"
      ]
     },
     "execution_count": 101,
     "metadata": {},
     "output_type": "execute_result"
    }
   ],
   "source": [
    "os.getcwd()\n"
   ]
  },
  {
   "cell_type": "code",
   "execution_count": 102,
   "metadata": {
    "collapsed": true
   },
   "outputs": [],
   "source": [
    "# /Users/wyssuser/Desktop/testFID"
   ]
  },
  {
   "cell_type": "code",
   "execution_count": 103,
   "metadata": {
    "collapsed": false
   },
   "outputs": [],
   "source": [
    "test_ID = plasmidIDtool()"
   ]
  },
  {
   "cell_type": "code",
   "execution_count": 104,
   "metadata": {
    "collapsed": false
   },
   "outputs": [
    {
     "name": "stdout",
     "output_type": "stream",
     "text": [
      "enter the folder path you would like to analyze: /Users/wyssuser/Desktop/Repos/Plasmid-Sequence-Identifier/test_seqence\n",
      "Written content in the file successfully\n",
      "Checking files\n",
      "You have 2 file(s)\n",
      "['1-65 (1).seq', '1-65 test again.seq']\n",
      "enter the refernce region you would like to search: TGTAAAGCCT\n",
      "how many base pairs would you like to search : 3\n",
      "how many base pairs is region you like to find : 3\n",
      "what you like to call your excel file : test6\n",
      "1-65 (1).seq\n",
      "1-65 test again.seq\n",
      "ERROR: Region does not exsist in given sequence \n",
      "file saved\n"
     ]
    },
    {
     "data": {
      "text/plain": [
       "True"
      ]
     },
     "execution_count": 104,
     "metadata": {},
     "output_type": "execute_result"
    }
   ],
   "source": [
    "test_ID.start()"
   ]
  },
  {
   "cell_type": "code",
   "execution_count": null,
   "metadata": {
    "collapsed": true
   },
   "outputs": [],
   "source": [
    "\n",
    "\n",
    "TGTAAAGCCT\n",
    "ATTCTTCG\n",
    "CATAGGCT\n",
    "CNNNTTGATC"
   ]
  },
  {
   "cell_type": "code",
   "execution_count": 248,
   "metadata": {
    "collapsed": false
   },
   "outputs": [
    {
     "name": "stdout",
     "output_type": "stream",
     "text": [
      "1-65 (1).seq\n"
     ]
    }
   ],
   "source": [
    "for i in test_ID.lis:\n",
    "    \n",
    "    print i"
   ]
  },
  {
   "cell_type": "code",
   "execution_count": 271,
   "metadata": {
    "collapsed": true
   },
   "outputs": [],
   "source": [
    "data = open(\"/Users/wyssuser/Desktop/testFID/1-65 (1).seq\").read().split()"
   ]
  },
  {
   "cell_type": "code",
   "execution_count": 272,
   "metadata": {
    "collapsed": false
   },
   "outputs": [
    {
     "name": "stdout",
     "output_type": "stream",
     "text": [
      "['>1-65_E09.ab1', 'NNNNNNNNNNNNNNNNTGANTTTTCTGTATGAGGTTTTGCTAAACAACTTTCAACAGTTTCGGCTGGCGCGCCCTCGAGG', 'GAGCCACCACCCTCAGAACCACCGCCTTGGCCTCCCGGGCCTTTATATTCTTCGGTTTTAAAGTTGTTGCGTTTGCCGCG', 'GCTGCCGCCATAAAAAAAGGTTGCCATGGCCGGCTGGGCCGCGAGTAATAACAATCCAGCGGCCGCCGTAGGCAATAGGT', 'ATTTCATTATGACTGTCTCCTTGAATTCAAATTGTTATCCGCTCACAATTCCACACAACATACGAGCCGGAAGCATAAAG', 'TGTAAAGCCTGGGGTGCCTAATGAGTGAGCTAACTCACATTAATTGCGTTGCGCTCACTGCCCGCTTTCCAGTCGGGAAA', 'CCTGTCGTGCCAGCTGCATTAATGAATCGGCCAACGCGCGGGGAGAGGCGGTTTGCGTATTGGGCGCATGTGAGCAAAAG', 'GCCAGCAAAAGGCCAGGAACCGTAAAAAGGCCGCGTTGCTGGCGTTTTTCCATAGGCTCCGCCCCCCTGACGAGCATCAC', 'AAAAATCGACGCTCAAGTCAGAGGTGGCGAAACCCGACAGGACTATAAAGATACCAGGCGTTTCCCCCTGGAAGCTCCCT', 'CGTGCGCTCTCCTGTTCCGACCCTGCCGCTTACCGGATACCTGTCCGCCTTTCTCCCTTCGGGAAGCGTGGCGCTTTCTC', 'ATAGCTCACGCTGTAGGTATCTCAGTTCGGTGTAGGTCGTTCGCTCCAAGCTGGGCTGTGTGCACGAACCCCCCGTTCAG', 'CCCGACCGCTGCGCCTTATCCGGTAACTATCGTCTTGAGTCCAACCCGGTAAGACACGACTTATCGCCACTGGCAGCAGC', 'CACTGGTAACAGGATTAGCAGAGCGAGGTATGTAGGCGGTGCTACAGAGTTCTTGAAGTGGTGGCCTAACTACGGCTACA', 'CTAGAAGAACAGTATTTGGTATCTGCGCTCNGCTGAAGCCAGTTACCTTCGGAAAAAGANTTGGTAGCNNNTTGATCCNG', 'NNAANNANNNNNNGCNGGNANNNN']\n"
     ]
    }
   ],
   "source": [
    "print data"
   ]
  },
  {
   "cell_type": "code",
   "execution_count": null,
   "metadata": {
    "collapsed": true
   },
   "outputs": [],
   "source": []
  }
 ],
 "metadata": {
  "kernelspec": {
   "display_name": "Python 2",
   "language": "python",
   "name": "python2"
  },
  "language_info": {
   "codemirror_mode": {
    "name": "ipython",
    "version": 2
   },
   "file_extension": ".py",
   "mimetype": "text/x-python",
   "name": "python",
   "nbconvert_exporter": "python",
   "pygments_lexer": "ipython2",
   "version": "2.7.13"
  }
 },
 "nbformat": 4,
 "nbformat_minor": 2
}
